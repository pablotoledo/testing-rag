{
 "cells": [
  {
   "cell_type": "markdown",
   "metadata": {},
   "source": [
    "# Talking with a Repository - Understanding RAG"
   ]
  },
  {
   "cell_type": "markdown",
   "metadata": {},
   "source": [
    "The purpose of this Project is be able to talk with your own repository. This notebook will try to define a pipeline to work with the documentation. The main steps will be:\n",
    "\n",
    "- Prepare the environment\n",
    "- Get the repository\n",
    "- Do the Ingest step \n",
    "...\n"
   ]
  },
  {
   "cell_type": "markdown",
   "metadata": {},
   "source": [
    "## Preparing the environment\n",
    "\n",
    "These are the main libraries used for each step in the Pipeline:\n",
    "\n",
    "`Get the repository`\n",
    "- GitPython \n",
    "\n",
    "`Ingest step`\n",
    "- LangChain to load the [directory](https://python.langchain.com/docs/modules/data_connection/document_loaders/file_directory)"
   ]
  },
  {
   "cell_type": "markdown",
   "metadata": {},
   "source": [
    "## Get the git repository"
   ]
  },
  {
   "cell_type": "code",
   "execution_count": 10,
   "metadata": {},
   "outputs": [
    {
     "ename": "ModuleNotFoundError",
     "evalue": "No module named 'git'",
     "output_type": "error",
     "traceback": [
      "\u001b[1;31m---------------------------------------------------------------------------\u001b[0m",
      "\u001b[1;31mModuleNotFoundError\u001b[0m                       Traceback (most recent call last)",
      "Cell \u001b[1;32mIn[10], line 4\u001b[0m\n\u001b[0;32m      1\u001b[0m \u001b[38;5;66;03m# Import libraries\u001b[39;00m\n\u001b[0;32m      3\u001b[0m \u001b[38;5;28;01mimport\u001b[39;00m \u001b[38;5;21;01mos\u001b[39;00m\n\u001b[1;32m----> 4\u001b[0m \u001b[38;5;28;01mfrom\u001b[39;00m \u001b[38;5;21;01mgit\u001b[39;00m \u001b[38;5;28;01mimport\u001b[39;00m Repo\n",
      "\u001b[1;31mModuleNotFoundError\u001b[0m: No module named 'git'"
     ]
    }
   ],
   "source": [
    "# Import libraries\n",
    "\n",
    "import os\n",
    "from git import Repo"
   ]
  },
  {
   "cell_type": "markdown",
   "metadata": {},
   "source": [
    "Clone locally a repository from GitHub."
   ]
  },
  {
   "cell_type": "code",
   "execution_count": 2,
   "metadata": {},
   "outputs": [
    {
     "data": {
      "text/plain": [
       "\"Your branch is up to date with 'origin/main'.\""
      ]
     },
     "execution_count": 2,
     "metadata": {},
     "output_type": "execute_result"
    }
   ],
   "source": [
    "import shutil\n",
    "\n",
    "# remove /repo directory if it exists using python\n",
    "if os.path.exists(\"repo\"):\n",
    "    shutil.rmtree(\"repo\")\n",
    "\n",
    "repo_path = os.getcwd() + \"/repo\"\n",
    "repo_url = \"https://github.com/pablotoledo/the-mergementor.git\"\n",
    "Repo.clone_from(repo_url, repo_path)\n",
    "\n",
    "repo = Repo(repo_path)\n",
    "assert not repo.bare\n",
    "\n",
    "# Move to the main branch\n",
    "repo.git.checkout('main')"
   ]
  },
  {
   "cell_type": "markdown",
   "metadata": {},
   "source": [
    "Read all files in the repository."
   ]
  },
  {
   "cell_type": "code",
   "execution_count": 3,
   "metadata": {},
   "outputs": [],
   "source": [
    "file_contents = []\n",
    "for subdir, dirs, files in os.walk(repo_path):\n",
    "    for file in files:\n",
    "        filepath = subdir + os.sep + file\n",
    "\n",
    "        if filepath.endswith((\".py\", \".md\", \".txt\")):\n",
    "            with open(filepath, 'r', encoding='utf-8') as f:\n",
    "                # Guarda una tupla de (ruta del archivo, contenido del archivo)\n",
    "                file_contents.append((filepath, f.read()))"
   ]
  },
  {
   "cell_type": "markdown",
   "metadata": {},
   "source": [
    "# Embeddings\n",
    "\n",
    "Embeddings are a way to represent words in a vector space. The idea is to represent words in a way that similar words are close to each other in the vector space. This is useful for many NLP tasks, such as sentiment analysis, text classification, and machine translation."
   ]
  },
  {
   "cell_type": "code",
   "execution_count": 8,
   "metadata": {},
   "outputs": [
    {
     "name": "stderr",
     "output_type": "stream",
     "text": [
      "Some weights of RobertaModel were not initialized from the model checkpoint at microsoft/graphcodebert-base and are newly initialized: ['roberta.pooler.dense.bias', 'roberta.pooler.dense.weight']\n",
      "You should probably TRAIN this model on a down-stream task to be able to use it for predictions and inference.\n"
     ]
    }
   ],
   "source": [
    "from transformers import AutoTokenizer, AutoModel\n",
    "import torch\n",
    "\n",
    "tokenizer = AutoTokenizer.from_pretrained(\"microsoft/graphcodebert-base\")\n",
    "model = AutoModel.from_pretrained(\"microsoft/graphcodebert-base\")\n",
    "\n",
    "# Define la función de división en segmentos\n",
    "def divide_en_segmentos(texto, max_length=512, overlap=50):\n",
    "    palabras = texto.split()\n",
    "    segmentos = [' '.join(palabras[i:min(i+max_length, len(palabras))]) for i in range(0, len(palabras), max_length - overlap)]\n",
    "    return segmentos\n",
    "\n",
    "# Modifica la función encode_texts para procesar cada segmento de texto\n",
    "def encode_texts(texts_with_paths, max_length=512, overlap=50):\n",
    "    results = []\n",
    "    for filepath, text in texts_with_paths:\n",
    "        segmentos = divide_en_segmentos(text, max_length, overlap)\n",
    "        embeddings_segmento = []\n",
    "        for seg in segmentos:\n",
    "            encoded_input = tokenizer([seg], padding=True, truncation=True, return_tensors='pt', max_length=max_length)\n",
    "            with torch.no_grad():\n",
    "                model_output = model(**encoded_input)\n",
    "            embeddings_segmento.append(model_output.pooler_output)\n",
    "        # Promedia los embeddings de los segmentos\n",
    "        embeddings_promedio = torch.mean(torch.stack(embeddings_segmento), dim=0)\n",
    "        # Guarda una tupla de (ruta del archivo, embedding promediado)\n",
    "        results.append((filepath, embeddings_promedio))\n",
    "    return results\n",
    "\n",
    "# Repite para el contenido de los archivos si es necesario\n",
    "file_embeddings = encode_texts(file_contents)"
   ]
  }
 ],
 "metadata": {
  "kernelspec": {
   "display_name": ".venv",
   "language": "python",
   "name": "python3"
  },
  "language_info": {
   "codemirror_mode": {
    "name": "ipython",
    "version": 3
   },
   "file_extension": ".py",
   "mimetype": "text/x-python",
   "name": "python",
   "nbconvert_exporter": "python",
   "pygments_lexer": "ipython3",
   "version": "3.9.10"
  }
 },
 "nbformat": 4,
 "nbformat_minor": 2
}
